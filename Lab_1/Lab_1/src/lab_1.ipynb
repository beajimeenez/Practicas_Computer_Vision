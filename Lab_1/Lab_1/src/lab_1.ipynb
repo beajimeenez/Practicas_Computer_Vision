{
 "cells": [
  {
   "cell_type": "markdown",
   "id": "ec3e6b7c",
   "metadata": {},
   "source": [
    "# **Sesión 1:** Introducción a OpenCV y Espacios de color ⚙️🖼️ \n",
    "\n",
    "Cristina Hernandez, Macarena Vargas, Beatriz Jimenez "
   ]
  },
  {
   "cell_type": "markdown",
   "id": "50bf56a9",
   "metadata": {},
   "source": [
    "## 0. Preparación"
   ]
  },
  {
   "cell_type": "code",
   "execution_count": 1,
   "id": "089402ed",
   "metadata": {
    "ExecuteTime": {
     "end_time": "2025-09-11T06:48:13.991657Z",
     "start_time": "2025-09-11T06:48:13.654946Z"
    }
   },
   "outputs": [],
   "source": [
    "import cv2, numpy as np, matplotlib.pyplot as plt\n",
    "import os\n",
    "import cv2\n",
    "import imageio\n",
    "import numpy as np\n",
    "from typing import List\n",
    "from utils import get_hsv_color_ranges\n",
    "import glob"
   ]
  },
  {
   "cell_type": "markdown",
   "id": "393dca865cf8ccb0",
   "metadata": {},
   "source": [
    "## **Apartado A: Uso basico de funciones de OpenCV**\n",
    "\n"
   ]
  },
  {
   "cell_type": "markdown",
   "id": "d1aacfa06dcfcad2",
   "metadata": {},
   "source": [
    "El objetivo de este apartado es aprender a usar funcionalidades basica sobre el uso de OpenCV, para ello se hara uso de las imágenes en la carpeta ``data``.\n",
    "\n",
    "1. **Tarea A.1**. Cargar una imagen ``cv2.imread()``.\n",
    "2. **Tarea A.2.** Visualizar una imagen ``cv2.imshow()``.\n",
    "3. **Tarea A.3.** Conversion de imagen de color a escala de grises ``cv2.cvtColor()``.\n",
    "4. **Tarea A.4.** Cambia el tamaño de una imagen ``cv2.resize()`` a 200x200 píxeles.\n",
    "5. **Tarea A.5.** Recorta el centro de la imagen a un tamaño 120x160.\n",
    "6. **Tarea A.6.** Rota la imagen ``cv2.getRotationMatrix2D`` ``cv2.wrapAffine()``.\n",
    "7. **Tarea A.7.** Guarda la imagen ``cv2.imwrite()``."
   ]
  },
  {
   "cell_type": "markdown",
   "id": "18f2e2aa9e8c45aa",
   "metadata": {},
   "source": [
    "### **Tarea A.1:** Cargar una imagen con ``cv2.imread()``"
   ]
  },
  {
   "cell_type": "code",
   "execution_count": 2,
   "id": "d337724dd357a6e0",
   "metadata": {},
   "outputs": [
    {
     "name": "stdout",
     "output_type": "stream",
     "text": [
      "[[[ 91 131 103]\n",
      "  [ 86 126 101]\n",
      "  [ 75 118  97]\n",
      "  ...\n",
      "  [ 47  86  41]\n",
      "  [ 47  83  39]\n",
      "  [ 44  80  36]]\n",
      "\n",
      " [[ 90 129 103]\n",
      "  [ 87 127 102]\n",
      "  [ 78 119  98]\n",
      "  ...\n",
      "  [ 52  90  48]\n",
      "  [ 50  88  46]\n",
      "  [ 47  85  43]]\n",
      "\n",
      " [[ 91 127 103]\n",
      "  [ 87 126 104]\n",
      "  [ 79 122 101]\n",
      "  ...\n",
      "  [ 55  97  56]\n",
      "  [ 53  95  54]\n",
      "  [ 52  92  51]]\n",
      "\n",
      " ...\n",
      "\n",
      " [[  9  82 120]\n",
      "  [  5  78 116]\n",
      "  [  2  72 112]\n",
      "  ...\n",
      "  [  0  30  19]\n",
      "  [  0  30  19]\n",
      "  [  0  30  19]]\n",
      "\n",
      " [[  6  71 115]\n",
      "  [  3  68 112]\n",
      "  [  0  65 110]\n",
      "  ...\n",
      "  [  0  28  19]\n",
      "  [  0  28  19]\n",
      "  [  0  28  19]]\n",
      "\n",
      " [[  0  53 102]\n",
      "  [  0  55 104]\n",
      "  [  0  61 109]\n",
      "  ...\n",
      "  [  0  26  20]\n",
      "  [  0  26  20]\n",
      "  [  0  26  20]]]\n"
     ]
    }
   ],
   "source": [
    "# TODO: Load an image from disk using cv2.imread('path/to/image.jpg').\n",
    "img = cv2.imread(\"../data/000.jpg\")\n",
    "print(img)"
   ]
  },
  {
   "cell_type": "markdown",
   "id": "2ef9d272bf6cec28",
   "metadata": {},
   "source": [
    "### **Tarea A.2:** Visualizar la imagen con ``cv2.imshow()``\n"
   ]
  },
  {
   "cell_type": "code",
   "execution_count": 3,
   "id": "8449775c8089f122",
   "metadata": {},
   "outputs": [],
   "source": [
    "# TODO: Display the image using cv2.imshow().\n",
    "cv2.imshow(\"mat\", img)\n",
    "cv2.waitKey(0)\n",
    "cv2.destroyAllWindows()"
   ]
  },
  {
   "cell_type": "markdown",
   "id": "c6be3dae4c5bbb1",
   "metadata": {},
   "source": [
    "### **Tarea A.3:** Conversion de imagen de color a escala de grises ``cv2.cvtColor()``."
   ]
  },
  {
   "cell_type": "code",
   "execution_count": 4,
   "id": "85083cde91a203ee",
   "metadata": {},
   "outputs": [
    {
     "name": "stdout",
     "output_type": "stream",
     "text": [
      "Color shape: (184, 275, 3)\n",
      "Gray shape: (184, 275)\n"
     ]
    }
   ],
   "source": [
    "# TODO: Convert the image from color to grayscale using cv2.cvtColor().\n",
    "gray = cv2.cvtColor(img, cv2.COLOR_BGR2GRAY)\n",
    "# TODO: Check image shape → grayscale: (height, width), color: (height, width, channels).\n",
    "print(\"Color shape:\", img.shape)\n",
    "print(\"Gray shape:\", gray.shape)\n",
    "# TODO: Display the image using cv2.imshow().\n",
    "cv2.imshow(\"gray image\", gray)\n",
    "cv2.waitKey(0)\n",
    "cv2.destroyAllWindows()"
   ]
  },
  {
   "cell_type": "markdown",
   "id": "5fb789a6bcc4af81",
   "metadata": {},
   "source": [
    "### **Tarea A.4:** Cambia el tamaño de una imagen ``cv2.resize()`` a 200x200 píxeles."
   ]
  },
  {
   "cell_type": "code",
   "execution_count": 5,
   "id": "c25362b95caf714f",
   "metadata": {},
   "outputs": [
    {
     "name": "stdout",
     "output_type": "stream",
     "text": [
      "Resized shape: (200, 200, 3)\n"
     ]
    }
   ],
   "source": [
    "# TODO: Resize the image to 200×200 pixels using cv2.resize().\n",
    "resized = cv2.resize(img, (200, 200))\n",
    "# TODO: Check the image shape\n",
    "print(\"Resized shape:\", resized.shape)\n",
    "# TODO: Display the image using cv2.imshow().\n",
    "cv2.imshow(\"resized image\", resized)\n",
    "cv2.waitKey(0)\n",
    "cv2.destroyAllWindows()"
   ]
  },
  {
   "cell_type": "markdown",
   "id": "fb1f226141ff4ed1",
   "metadata": {},
   "source": [
    "### **Tarea A.5:** Recorta el centro de la imagen a un tamaño 120x160."
   ]
  },
  {
   "cell_type": "code",
   "execution_count": 6,
   "id": "9014bedf726a13f",
   "metadata": {},
   "outputs": [
    {
     "name": "stdout",
     "output_type": "stream",
     "text": [
      "ROI shape: (120, 160, 3)\n"
     ]
    }
   ],
   "source": [
    "# TODO: # TODO: Crop the center of the image 'img' with an approximate size of 120x160 pixels.\n",
    "h, w = img.shape[:2]\n",
    "cy, cx =  h // 2, w // 2\n",
    "roi = img[cy-60:cy+60, cx-80:cx+80]\n",
    "# TODO: Check the image shape\n",
    "print(\"ROI shape:\", roi.shape)\n",
    "# TODO: Display the image using cv2.imshow().\n",
    "cv2.imshow(\"ROI\", roi)\n",
    "cv2.waitKey(0)\n",
    "cv2.destroyAllWindows()"
   ]
  },
  {
   "cell_type": "markdown",
   "id": "d2dcb76fd085926d",
   "metadata": {},
   "source": [
    "### **Tarea A.6:** Rota la imagen usando ``cv2.getRotationMatrix2D`` y ``cv2.wrapAffine()``."
   ]
  },
  {
   "cell_type": "code",
   "execution_count": 7,
   "id": "51579071e1c78df5",
   "metadata": {},
   "outputs": [],
   "source": [
    "# TODO: Rotate around the center using cv2.getRotationMatrix2D and cv2.warpAffine.\n",
    "h, w = img.shape[:2]\n",
    "center = (cx, cy)\n",
    "\n",
    "\n",
    "M = cv2.getRotationMatrix2D(center, 45, 1.0)\n",
    "rotated = cv2.warpAffine(img, M, (w, h))\n",
    "# TODO: Display the image using cv2.imshow().\n",
    "cv2.imshow(\"Rotated\", rotated)\n",
    "cv2.waitKey(0)\n",
    "cv2.destroyAllWindows()"
   ]
  },
  {
   "cell_type": "markdown",
   "id": "446f4b20c45da514",
   "metadata": {},
   "source": [
    "### **Tarea A.7:** Guarda la imagen con ``cv2.imwrite()``"
   ]
  },
  {
   "cell_type": "code",
   "execution_count": 8,
   "id": "d2cb3e20daaef247",
   "metadata": {},
   "outputs": [
    {
     "data": {
      "text/plain": [
       "True"
      ]
     },
     "execution_count": 8,
     "metadata": {},
     "output_type": "execute_result"
    }
   ],
   "source": [
    "# TODO: Save the image to disk as 'salida_opcionA_1.png' using cv2.imwrite().\n",
    "cv2.imwrite(\"salida_opcionA_1.png\", rotated)"
   ]
  },
  {
   "cell_type": "markdown",
   "id": "f27dd4e2",
   "metadata": {},
   "source": [
    "## **Apartado B: Segmentación por color**"
   ]
  },
  {
   "cell_type": "markdown",
   "id": "346b9745",
   "metadata": {},
   "source": [
    "El objetivo de este apartado es segmentar los colores naranja y blanco de las imágenes en la carpeta ``data``.\n",
    "\n",
    "1. **Tarea B.1**. Defina y ejecute el método para cargar imágenes ``load_imgs()``.\n",
    "2. **Tarea B.2.** Defina los métodos ``show_image()`` y ``write_image()`` para visualizar y guardar imágenes.\n",
    "3. **Tarea B.3.** Cambia el espacio de color de las imágenes a uno donde la crominancia y la intensidad estén separados (HSV).\n",
    "4. **Tarea B.4.** Segmenta los colores anaranjados.\n",
    "5. **Tarea B.5.** Segmenta los colores blancos.\n",
    "6. **Tarea B.6.** Junta las máscaras para cada imagen (naranja + blanco) y segmenta cada una de ellas.\n",
    "7. **Tarea B.7.** Guarda las imágenes.\n"
   ]
  },
  {
   "cell_type": "markdown",
   "id": "f0bfa42b",
   "metadata": {},
   "source": [
    "### **Tarea B.1:** Defina y ejecute el método para cargar imágenes ``load_images()``"
   ]
  },
  {
   "cell_type": "code",
   "execution_count": 20,
   "id": "cb90c169",
   "metadata": {},
   "outputs": [],
   "source": [
    "def load_images(filenames: List) -> List:\n",
    "    return [cv2.imread(filename) for filename in filenames]"
   ]
  },
  {
   "cell_type": "code",
   "execution_count": 10,
   "id": "e9511ad8",
   "metadata": {},
   "outputs": [],
   "source": [
    "# TODO Build a list containing the paths of all images in the data folder\n",
    "imgs_path = []\n",
    "for i in range(6):\n",
    "    imgs_path.append(f\"../data/00{i}.jpg\")\n",
    "\n",
    "imgs = load_images(imgs_path)"
   ]
  },
  {
   "cell_type": "markdown",
   "id": "059344e8",
   "metadata": {},
   "source": [
    "### **Tarea B.2**. Defina los métodos ``show_image()`` y ``write_image()`` para visualizar y guardar imágenes"
   ]
  },
  {
   "cell_type": "code",
   "execution_count": 11,
   "id": "5773cb22",
   "metadata": {},
   "outputs": [],
   "source": [
    "# TODO Complete the method, use every argument\n",
    "def show_image(img: np.array, img_name: str = \"Image\"):\n",
    "    cv2.imshow(img_name, img)\n",
    "    cv2.waitKey(0)\n",
    "    cv2.destroyAllWindows()\n",
    "\n",
    "# TODO Complete the method, use every argument\n",
    "def write_image(output_folder: str, img_name: str, img: np.array):\n",
    "    img_path = os.path.join(output_folder, img_name)\n",
    "    cv2.imwrite(img_path, img)\n",
    "    "
   ]
  },
  {
   "cell_type": "markdown",
   "id": "7937eb87",
   "metadata": {},
   "source": [
    "### **Tarea B.3:** Cambie el espacio de color de las imágenes a uno donde la crominancia y la intensidad estén separados (HSV)"
   ]
  },
  {
   "cell_type": "code",
   "execution_count": 12,
   "id": "20c33992",
   "metadata": {},
   "outputs": [],
   "source": [
    "# TODO Get a list with ìmgs in HSV color space\n",
    "hsv_imgs = [cv2.cvtColor(img, cv2.COLOR_BGR2HSV) for img in imgs]"
   ]
  },
  {
   "cell_type": "markdown",
   "id": "1882be73",
   "metadata": {},
   "source": [
    "### **Tarea B.4:** Segmente los colores anaranjados"
   ]
  },
  {
   "cell_type": "code",
   "execution_count": 13,
   "id": "4fee44ea",
   "metadata": {},
   "outputs": [],
   "source": [
    "# TODO Define orange color range\n",
    "light_orange = (1, 190, 200)\n",
    "dark_orange = (255, 255, 255)\n",
    "\n",
    "# TODO Compute a list that contains a mask (which should segment orange colors) for every image.\n",
    "\n",
    "orange_masks = [cv2.inRange(hsv, light_orange, dark_orange) for hsv in hsv_imgs]\n",
    "\n",
    "# TODO Compute a list that contains the result of multiplying the original image with its orange colors mask.\n",
    "orange_segmented = [cv2.bitwise_and(img, img, mask = mask) for img, mask in zip(imgs, orange_masks)]\n",
    "\n",
    "# TODO Show an original image\n",
    "show_image(imgs[0], \"Original\")\n",
    "\n",
    "# TODO Show a mask\n",
    "show_image(orange_masks[0], \"Mask\")\n",
    "\n",
    "# TODO Show a segmented image\n",
    "show_image(orange_segmented[0], \"Segmented\")"
   ]
  },
  {
   "cell_type": "markdown",
   "id": "12e26e47",
   "metadata": {},
   "source": [
    "### **Tarea B.5:** Segmente los colores blancos."
   ]
  },
  {
   "cell_type": "markdown",
   "id": "a0283e8c",
   "metadata": {},
   "source": [
    "Para detectar el rango de blancos complete la siguiente celda y ejecutela para investigar el rango de valores necesarios."
   ]
  },
  {
   "cell_type": "code",
   "execution_count": 14,
   "id": "9a5e1c1a",
   "metadata": {},
   "outputs": [
    {
     "name": "stdout",
     "output_type": "stream",
     "text": [
      "(hMin = 0 , sMin = 0, vMin = 0), (hMax = 255 , sMax = 255, vMax = 255)\n"
     ]
    }
   ],
   "source": [
    "# TODO Discover white color ranges\n",
    "get_hsv_color_ranges(img)\n",
    "\n",
    "# TODO Define white color range\n",
    "light_white = (0, 0, 200)\n",
    "dark_white = (180, 30, 255)\n",
    "\n",
    "# TODO Compute a list that contains a mask (which should segment white colors) for every image.\n",
    "white_masks = [cv2.inRange(hsv, light_white, dark_white) for hsv in hsv_imgs]\n",
    "\n",
    "\n",
    "# TODO Compute a list that contains the result of multiplying the original image with its white colors mask.\n",
    "white_segmented = [cv2.bitwise_and(img, img, mask=mask) for img, mask in zip(imgs, white_masks)]\n",
    "\n",
    "# TODO Show an original image\n",
    "show_image(imgs[0], \"Original\")\n",
    "\n",
    "# TODO Show a mask\n",
    "show_image(white_masks[0], \"White Mask\")\n",
    "\n",
    "# TODO Show a segmented image\n",
    "show_image(white_segmented[0], \"White Segmented\")"
   ]
  },
  {
   "cell_type": "markdown",
   "id": "a2c7153e",
   "metadata": {},
   "source": [
    "### **Tarea B.6:** Junte las máscaras para cada imagen (naranja + blanco) y segmente cada una de ellas."
   ]
  },
  {
   "cell_type": "code",
   "execution_count": 21,
   "id": "7288c4c1",
   "metadata": {},
   "outputs": [],
   "source": [
    "# TODO Join orange_masks and white_masks\n",
    "fish_masks = [cv2.bitwise_or(om, wm) for om, wm in zip(orange_masks, white_masks)]\n",
    "    \n",
    "# TODO Compute a list that contains the result of multiplying the original image with its complete mask.\n",
    "fish = [cv2.bitwise_and(img, img, mask=mask) for img, mask in zip(imgs, fish_masks)]\n",
    "\n",
    "# TODO Show an original image\n",
    "show_image(imgs[0], \"Original\")\n",
    "\n",
    "# TODO Show a mask\n",
    "show_image(fish_masks[0], \"Fish Mask\")\n",
    "\n",
    "# TODO Show a segmented image\n",
    "show_image(fish[0], \"Fish Segmented\")"
   ]
  },
  {
   "cell_type": "markdown",
   "id": "dd5f5cc4",
   "metadata": {},
   "source": [
    "### **Tarea B.7:** Guarde las imágenes"
   ]
  },
  {
   "cell_type": "code",
   "execution_count": 16,
   "id": "03982169",
   "metadata": {},
   "outputs": [],
   "source": [
    "# TODO Define your output folder and save every fish image\n",
    "output_folder = \"output_fish\"\n",
    "os.makedirs(output_folder, exist_ok=True)\n",
    "for i, f in enumerate(fish):\n",
    "    img_name = f\"fish_{i}.png\"\n",
    "    write_image(output_folder, img_name, f)"
   ]
  },
  {
   "cell_type": "markdown",
   "id": "efa0dbf1",
   "metadata": {},
   "source": [
    "### **Pregunta B.1:** Segmente por color el logotipo de su marca favorita: descompóngalo en al menos 3 colores."
   ]
  },
  {
   "cell_type": "code",
   "execution_count": 17,
   "id": "fa4ff07d",
   "metadata": {},
   "outputs": [
    {
     "ename": "KeyboardInterrupt",
     "evalue": "",
     "output_type": "error",
     "traceback": [
      "\u001b[1;31m---------------------------------------------------------------------------\u001b[0m",
      "\u001b[1;31mKeyboardInterrupt\u001b[0m                         Traceback (most recent call last)",
      "Cell \u001b[1;32mIn[19], line 25\u001b[0m\n\u001b[0;32m     22\u001b[0m show_image(logo, \u001b[38;5;124m\"\u001b[39m\u001b[38;5;124mOriginal\u001b[39m\u001b[38;5;124m\"\u001b[39m)\n\u001b[0;32m     24\u001b[0m show_image(mask_white, \u001b[38;5;124m\"\u001b[39m\u001b[38;5;124mMask - White\u001b[39m\u001b[38;5;124m\"\u001b[39m)\n\u001b[1;32m---> 25\u001b[0m \u001b[43mshow_image\u001b[49m\u001b[43m(\u001b[49m\u001b[43mseg_white\u001b[49m\u001b[43m,\u001b[49m\u001b[43m  \u001b[49m\u001b[38;5;124;43m\"\u001b[39;49m\u001b[38;5;124;43mSegmented - White\u001b[39;49m\u001b[38;5;124;43m\"\u001b[39;49m\u001b[43m)\u001b[49m\n\u001b[0;32m     27\u001b[0m show_image(mask_purple1, \u001b[38;5;124m\"\u001b[39m\u001b[38;5;124mMask - Light Purple\u001b[39m\u001b[38;5;124m\"\u001b[39m)\n\u001b[0;32m     28\u001b[0m show_image(seg_purple1,  \u001b[38;5;124m\"\u001b[39m\u001b[38;5;124mSegmented - Light Purple\u001b[39m\u001b[38;5;124m\"\u001b[39m)\n",
      "Cell \u001b[1;32mIn[11], line 4\u001b[0m, in \u001b[0;36mshow_image\u001b[1;34m(img, img_name)\u001b[0m\n\u001b[0;32m      2\u001b[0m \u001b[38;5;28;01mdef\u001b[39;00m\u001b[38;5;250m \u001b[39m\u001b[38;5;21mshow_image\u001b[39m(img: np\u001b[38;5;241m.\u001b[39marray, img_name: \u001b[38;5;28mstr\u001b[39m \u001b[38;5;241m=\u001b[39m \u001b[38;5;124m\"\u001b[39m\u001b[38;5;124mImage\u001b[39m\u001b[38;5;124m\"\u001b[39m):\n\u001b[0;32m      3\u001b[0m     cv2\u001b[38;5;241m.\u001b[39mimshow(img_name, img)\n\u001b[1;32m----> 4\u001b[0m     \u001b[43mcv2\u001b[49m\u001b[38;5;241;43m.\u001b[39;49m\u001b[43mwaitKey\u001b[49m\u001b[43m(\u001b[49m\u001b[38;5;241;43m0\u001b[39;49m\u001b[43m)\u001b[49m\n\u001b[0;32m      5\u001b[0m     cv2\u001b[38;5;241m.\u001b[39mdestroyAllWindows()\n",
      "\u001b[1;31mKeyboardInterrupt\u001b[0m: "
     ]
    }
   ],
   "source": [
    "# Homework\n",
    "filename = \"../data/logo_olivia_rodrigo.jpg\"\n",
    "logo = cv2.imread(filename)\n",
    "logo_hsv = cv2.cvtColor(logo, cv2.COLOR_BGR2HSV)\n",
    "\n",
    "# vamos a descomponer la imagen en sus 3 colores principales: blanco, morado claro y morado oscuro\n",
    "light_white, dark_white =   (0, 0, 200), (180, 30, 255)\n",
    "light_purple1, dark_purple1 = (125, 70, 60), (140, 255, 255)\n",
    "light_purple2, dark_purple2 = (140, 70, 60), (165, 255, 255)\n",
    "\n",
    "# declaramos las máscaras para cada color\n",
    "mask_white   = cv2.inRange(logo_hsv, light_white,   dark_white)\n",
    "mask_purple1 = cv2.inRange(logo_hsv, light_purple1, dark_purple1)\n",
    "mask_purple2 = cv2.inRange(logo_hsv, light_purple2, dark_purple2)\n",
    "\n",
    "# y declaramos las segmentaciones\n",
    "seg_white   = cv2.bitwise_and(logo, logo, mask=mask_white)\n",
    "seg_purple1 = cv2.bitwise_and(logo, logo, mask=mask_purple1)\n",
    "seg_purple2 = cv2.bitwise_and(logo, logo, mask=mask_purple2)\n",
    "\n",
    "\n",
    "show_image(logo, \"Original\")\n",
    "\n",
    "show_image(mask_white, \"Mask - White\")\n",
    "show_image(seg_white,  \"Segmented - White\")\n",
    "\n",
    "show_image(mask_purple1, \"Mask - Light Purple\")\n",
    "show_image(seg_purple1,  \"Segmented - Light Purple\")\n",
    "\n",
    "show_image(mask_purple2, \"Mask - Dark Purple\")\n",
    "show_image(seg_purple2,  \"Segmented - Dark Purple\")\n"
   ]
  },
  {
   "cell_type": "markdown",
   "id": "9427b159",
   "metadata": {},
   "source": [
    "### **Pregunta B.2:** ¿Qué ocurre si carga las imágenes con la función ``imageio.read()`` y luego la muestra con el método ``show_image()``? ¿A qué se debe este comportamiento?"
   ]
  },
  {
   "cell_type": "code",
   "execution_count": 18,
   "id": "af3ae60c",
   "metadata": {},
   "outputs": [
    {
     "name": "stderr",
     "output_type": "stream",
     "text": [
      "C:\\Users\\crist\\AppData\\Local\\Temp\\ipykernel_19700\\452123684.py:2: DeprecationWarning: Starting with ImageIO v3 the behavior of this function will switch to that of iio.v3.imread. To keep the current behavior (and make this warning disappear) use `import imageio.v2 as imageio` or call `imageio.v2.imread` directly.\n",
      "  return [imageio.imread(filename) for filename in filenames]\n"
     ]
    }
   ],
   "source": [
    "def load_images(filenames: List) -> List:\n",
    "    return [imageio.imread(filename) for filename in filenames]\n",
    "\n",
    "# TODO Homework: Load images\n",
    "question_imgs = load_images(imgs_path)\n",
    "\n",
    "\n",
    "# TODO Homework: Show it\n",
    "show_image(question_imgs[0], \"Question Image\")\n",
    "\n",
    "# lo que ocurre es que la función en show_image se basa en el comando de cv2.imread(), \n",
    "# que lo que hace es leer las imágenes en formato BRG. Sin embargo, la función load_images usa imageio.imread(),\n",
    "# que lee las imágenes en formato RGB. Por lo tanto, al intentar mostrar la imagen \n",
    "# se produce un error de color y los intercambia\n",
    "# por eso al imprimir las imágenes del pez (naranja) sale en azul. \n",
    "\n"
   ]
  }
 ],
 "metadata": {
  "kernelspec": {
   "display_name": "voi-lab",
   "language": "python",
   "name": "python3"
  },
  "language_info": {
   "codemirror_mode": {
    "name": "ipython",
    "version": 3
   },
   "file_extension": ".py",
   "mimetype": "text/x-python",
   "name": "python",
   "nbconvert_exporter": "python",
   "pygments_lexer": "ipython3",
   "version": "3.9.21"
  }
 },
 "nbformat": 4,
 "nbformat_minor": 5
}
