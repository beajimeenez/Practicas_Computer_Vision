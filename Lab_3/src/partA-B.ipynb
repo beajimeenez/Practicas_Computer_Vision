{
 "cells": [
  {
   "cell_type": "markdown",
   "id": "4c73dead",
   "metadata": {},
   "source": [
    "# **Sesión 3:** Procesamiento de imagenes y extracción de características"
   ]
  },
  {
   "cell_type": "markdown",
   "id": "0ec3ff68",
   "metadata": {},
   "source": [
    "## **Librerías**"
   ]
  },
  {
   "cell_type": "code",
   "execution_count": 1,
   "id": "a54eb68c",
   "metadata": {},
   "outputs": [
    {
     "name": "stdout",
     "output_type": "stream",
     "text": [
      "OpenCV should be 4.8.0.76 Current version: 4.8.0\n"
     ]
    }
   ],
   "source": [
    "import cv2\n",
    "print(\"OpenCV should be 4.8.0.76 Current version:\", cv2.__version__)\n",
    "from typing import List\n",
    "import numpy as np\n",
    "import imageio\n",
    "import copy\n",
    "import glob\n",
    "import matplotlib.pyplot as plt\n",
    "from typing import Optional\n",
    "from utils import *"
   ]
  },
  {
   "cell_type": "markdown",
   "id": "87eef33a",
   "metadata": {},
   "source": [
    "## **Apartado A:** Filtro Gaussiano y Detección de bordes: Sobel y Canny"
   ]
  },
  {
   "cell_type": "markdown",
   "id": "78e21d9f",
   "metadata": {},
   "source": [
    "El objetivo de este apartado es detectar los bordes de las imágenes de la carpeta ``data/partA-B``. Para ello, deberá seguir los siguientes pasos:\n",
    "\n",
    "1. **Tarea A.1.** Defina el método ``gaussian_blur()`` que aplique un filtro gausiano para obtener imágenes borrosas. Siga todas las indicaciones del enunciado.\n",
    "2. **Tarea A.2.** Aplique el método ``gaussian_blur()`` a todas las imágenes en ``data/partA-B``.\n",
    "\n",
    "\n",
    "3. **Tarea A.3.** Defina la función ``sobel_edge_detector()`` que detecte bordes con el método Sobel. Siga todas las indicaciones del enunciado.\n",
    "4. **Tarea A.4.** Aplique el método ``sobel_edge_detector()`` a todas las imágenes en ``data/partA-B``.\n",
    "\n",
    "\n",
    "5. **Tarea A.5.** Defina la función ``canny_edge_detector()`` que detecte bordes con el método Canny. Siga todas las indicaciones del enunciado.\n",
    "6. **Tarea A.6.** Aplique el método ``canny_edge_detector()`` a todas las imágenes en ``data/partA-B``."
   ]
  },
  {
   "cell_type": "markdown",
   "id": "efe85087",
   "metadata": {},
   "source": [
    "### **Tarea A.1:** Defina el método ``gaussian_blur()`` que aplique un filtro gausiano para obtener imágenes borrosas."
   ]
  },
  {
   "cell_type": "code",
   "execution_count": 2,
   "id": "33730d1e",
   "metadata": {},
   "outputs": [],
   "source": [
    "# TODO Define the method\n",
    "def gaussian_blur(img: np.array, sigma: float, filter_shape: Optional[List] = None, verbose: bool = False) -> np.array:\n",
    "    # TODO If not given, compute the filter shape \n",
    "    if filter_shape == None:\n",
    "        filter_l = 2*4*int(sigma) + 1\n",
    "        # El rango de sigma es [-4*sigma, 4*sigma]. Se multiplica por dos para aplicarlo en ambas direcciones (x,y)\n",
    "        # Le sumamos 1 para que sea impar y tenga un centro\n",
    "    else:\n",
    "        filter_l = filter_shape[0]\n",
    "    \n",
    "    # TODO Create the filter coordinates matrices\n",
    "    y, x = np.mgrid[-filter_shape//2+1:filter_shape//2+1 , -filter_shape//2+1:filter_shape//2+1]\n",
    "    \n",
    "    # TODO Define the formula that goberns the filter\n",
    "    formula = np.exp(-(x**2 + y**2)/(2*sigma**2))\n",
    "    gaussian_filter = (1/(2*np.pi*sigma**2))*formula\n",
    "    \n",
    "    # TODO Process the image\n",
    "    gb_img = cv2.filter2D(img, -1, gaussian_filter)\n",
    "    \n",
    "    if verbose:\n",
    "        cv2.show_image(img=gb_img, img_name=f\"Gaussian Blur: Sigma = {sigma}\")\n",
    "    \n",
    "    return gaussian_filter, gb_img.astype(np.uint8)"
   ]
  },
  {
   "cell_type": "markdown",
   "id": "5de8a5d7",
   "metadata": {},
   "source": [
    "### **Tarea A.2.** Aplique el método ``gaussian_blur()`` a todas las imágenes en ``data``."
   ]
  },
  {
   "cell_type": "code",
   "execution_count": null,
   "id": "b5edc45a",
   "metadata": {},
   "outputs": [],
   "source": [
    "# TODO Get the gaussian blurred images using a list comprehension\n",
    "gauss_sigma = None\n",
    "gb_imgs = []"
   ]
  },
  {
   "cell_type": "markdown",
   "id": "41bd3156",
   "metadata": {},
   "source": [
    "### **Tarea A.3:** Defina la función ``sobel_edge_detector()`` que detecte bordes con el método Sobel."
   ]
  },
  {
   "cell_type": "code",
   "execution_count": null,
   "id": "043072e3",
   "metadata": {},
   "outputs": [],
   "source": [
    "# TODO Define the method\n",
    "\n",
    "\n",
    "def sobel_edge_detector(img: np.array, filter: np.array, gauss_sigma: float, gauss_filter_shape: Optional[List] = None, verbose: bool = False) -> np.array:\n",
    "    # TODO Transform the img to grayscale\n",
    "    gray_img = cv2.cvtColor()\n",
    "    \n",
    "    # TODO Get a blurry img to improve edge detections\n",
    "    blurred = gaussian_blur(img=None, sigma=None, filter_shape=None, verbose=verbose)\n",
    "    \n",
    "    # Re-scale\n",
    "    blurred = blurred/255\n",
    "    \n",
    "    # TODO Get vertical edges\n",
    "    v_edges = cv2.filter2D()\n",
    "    \n",
    "    # TODO Transform the filter to get the orthogonal edges\n",
    "    filter = filter\n",
    "    \n",
    "    # TODO Get horizontal edges\n",
    "    h_edges = cv2.filter2D()\n",
    "    \n",
    "    # TODO Get edges\n",
    "    sobel_edges_img = np.hypot()\n",
    "    \n",
    "    # Get edges angle\n",
    "    theta = np.arctan2(None, None)\n",
    "    \n",
    "    # Visualize if needed\n",
    "    if verbose:\n",
    "        show_image(img=sobel_edges_img, img_name=\"Sobel Edges\")\n",
    "    \n",
    "    return np.squeeze(sobel_edges_img), np.squeeze(theta)"
   ]
  },
  {
   "cell_type": "markdown",
   "id": "2259dc13",
   "metadata": {},
   "source": [
    "### **Tarea A.4.** Aplique el método ``sobel_edge_detector()`` a todas las imágenes en ``data``."
   ]
  },
  {
   "cell_type": "code",
   "execution_count": null,
   "id": "fd3a2287",
   "metadata": {},
   "outputs": [],
   "source": [
    "# TODO Define a sigma value\n",
    "gauss_sigma = None\n",
    "\n",
    "# TODO Define the Sobel filter\n",
    "sobel_filter = np.array()\n",
    "\n",
    "# TODO Get the edges detected by Sobel using a list comprehension\n",
    "sobel_edges_imgs = []"
   ]
  },
  {
   "cell_type": "markdown",
   "id": "87c0073d",
   "metadata": {},
   "source": [
    "### **Tarea A.5:** Defina la función ``canny_edge_detector()`` que detecte bordes con el método Canny."
   ]
  },
  {
   "cell_type": "code",
   "execution_count": null,
   "id": "d6e5e5f7",
   "metadata": {},
   "outputs": [],
   "source": [
    "# TODO Define the method\n",
    "def canny_edge_detector(img: np.array, sobel_filter: np.array, gauss_sigma: float, gauss_filter_shape: Optional[List] = None, verbose: bool = False):\n",
    "    # TODO Call the method sobel_edge_detector()\n",
    "    sobel_edges_img, theta = sobel_edge_detector()\n",
    "    \n",
    "    # TODO Use NMS to refine edges\n",
    "    canny_edges_img = non_max_suppression()\n",
    "    \n",
    "    if verbose:\n",
    "        show_image(canny_edges_img, img_name=\"Canny Edges\")\n",
    "        \n",
    "    return canny_edges_img"
   ]
  },
  {
   "cell_type": "markdown",
   "id": "96037d1c",
   "metadata": {},
   "source": [
    "### **Tarea A.6.** Aplique el método ``canny_edge_detector()`` a todas las imágenes en ``data``."
   ]
  },
  {
   "cell_type": "code",
   "execution_count": null,
   "id": "61debda7",
   "metadata": {},
   "outputs": [],
   "source": [
    "# TODO Define Sobel filter\n",
    "sobel_filter = None\n",
    "\n",
    "# TODO Define a sigma value for Gauss\n",
    "gauss_sigma = None\n",
    "\n",
    "# TODO Define a Gauss filter shape\n",
    "gauss_filter_shape = [None, None]\n",
    "\n",
    "# TODO Get the edges detected by Canny using a list comprehension\n",
    "canny_edges = []"
   ]
  },
  {
   "cell_type": "markdown",
   "id": "4a3aacf7",
   "metadata": {},
   "source": [
    "### **Pregunta A.1:** Añada ruido a las imágenes de la carpeta ``data``. Compare los resultados que obtiene al aplicar su filtro Sobel con y sin filtro Gausiano."
   ]
  },
  {
   "cell_type": "code",
   "execution_count": null,
   "id": "2634cffe",
   "metadata": {},
   "outputs": [],
   "source": [
    "# TODO Homework"
   ]
  },
  {
   "cell_type": "markdown",
   "id": "aced3dbb",
   "metadata": {},
   "source": [
    "### **Pregunta A.2:** Utilice la librería ``scikit-image`` y compare el efecto de los filtros Sobel, Canny y Prewitt sobre las imágenes de la carpeta ``data``. ¿Qué diferencias observa entre los filtros? ¿Puede obtener alguna conclusión y/o patrón?"
   ]
  },
  {
   "cell_type": "code",
   "execution_count": null,
   "id": "76b78c60",
   "metadata": {},
   "outputs": [],
   "source": [
    "# TODO Homework"
   ]
  },
  {
   "cell_type": "markdown",
   "id": "4e7dc47f",
   "metadata": {},
   "source": [
    "## **Apartado B:** Operadores Morfológicos"
   ]
  },
  {
   "cell_type": "markdown",
   "id": "baa4c8eb",
   "metadata": {},
   "source": [
    "Para resolver este partado, deberá seguir los siguientes pasos:\n",
    "\n",
    "1. **Tarea B.1.** Defina el método ``binarize()`` para binarizar imágenes.\n",
    "2. **Tarea B.2.** Defina el método ``custom_dilate()``.\n",
    "3. **Tarea B.3.** Defina el método ``custom_erode()``.\n",
    "4. **Pregunta B.1** Aplique los métodos ``custom_dilate()`` y ``custom_erode()`` a todas las imágenes de la carpeta ``data``.\n"
   ]
  },
  {
   "cell_type": "markdown",
   "id": "a96e523e",
   "metadata": {},
   "source": [
    "### **Tarea B.1.** Defina el método ``binarize()`` para binarizar imágenes."
   ]
  },
  {
   "cell_type": "code",
   "execution_count": null,
   "id": "b5c0f90b",
   "metadata": {},
   "outputs": [],
   "source": [
    "# TODO Homework: define the binarization method\n",
    "def binarize(img: np.array, threshold: int = 127):\n",
    "    binary_img = None\n",
    "    return binary_img"
   ]
  },
  {
   "cell_type": "markdown",
   "id": "ea4ba53e",
   "metadata": {},
   "source": [
    "### **Tarea B.2.** Defina el método ``custom_dilate()``"
   ]
  },
  {
   "cell_type": "code",
   "execution_count": null,
   "id": "4c904763",
   "metadata": {},
   "outputs": [],
   "source": [
    "# TODO Homework: define the dilation method\n",
    "def custom_dilate(img):\n",
    "    # TODO pad the original image so it can keep dimensions after processing\n",
    "    padded = np.pad()\n",
    "    \n",
    "    # TODO get img shape\n",
    "    width = None\n",
    "    height = None\n",
    "    \n",
    "    # TODO Create an element with the same dimensions as the padded img\n",
    "    dilated = np.zeros()\n",
    "    \n",
    "    for j in range(height):\n",
    "        for i in range(width):\n",
    "            # TODO Add logic to the operation\n",
    "            pass\n",
    "            \n",
    "    # TODO Select the region of interest (ROI). Modify if needed\n",
    "    dilated = dilated[1:height+1, 1:width+1]\n",
    "    \n",
    "    return dilated"
   ]
  },
  {
   "cell_type": "markdown",
   "id": "4ec8141b",
   "metadata": {},
   "source": [
    "### **Tarea B.3.** Defina el método ``custom_erode()``"
   ]
  },
  {
   "cell_type": "code",
   "execution_count": null,
   "id": "08bedfdd",
   "metadata": {},
   "outputs": [],
   "source": [
    "# TODO Homework: define the erotion method\n",
    "def custom_erode(img):\n",
    "    eroded = None\n",
    "    \n",
    "    return eroded"
   ]
  },
  {
   "cell_type": "markdown",
   "id": "9946bcdd",
   "metadata": {},
   "source": [
    "### **Pregunta B.1** Aplique los métodos ``custom_dilate()`` y ``custom_erode()`` a todas las imágenes de la carpeta ``data``."
   ]
  },
  {
   "cell_type": "code",
   "execution_count": null,
   "id": "199bb243",
   "metadata": {},
   "outputs": [],
   "source": [
    "# TODO Homework"
   ]
  }
 ],
 "metadata": {
  "kernelspec": {
   "display_name": "voi-lab",
   "language": "python",
   "name": "python3"
  },
  "language_info": {
   "codemirror_mode": {
    "name": "ipython",
    "version": 3
   },
   "file_extension": ".py",
   "mimetype": "text/x-python",
   "name": "python",
   "nbconvert_exporter": "python",
   "pygments_lexer": "ipython3",
   "version": "3.9.21"
  }
 },
 "nbformat": 4,
 "nbformat_minor": 5
}
