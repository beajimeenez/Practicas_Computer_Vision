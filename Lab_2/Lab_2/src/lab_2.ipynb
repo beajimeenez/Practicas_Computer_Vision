{
 "cells": [
  {
   "cell_type": "markdown",
   "metadata": {},
   "source": [
    "# **Sesión 2:** Calibración de Cámara 📷⚙️"
   ]
  },
  {
   "cell_type": "markdown",
   "metadata": {},
   "source": [
    "## 0. Preparación"
   ]
  },
  {
   "cell_type": "code",
   "execution_count": 57,
   "metadata": {},
   "outputs": [
    {
     "name": "stdout",
     "output_type": "stream",
     "text": [
      "OpenCV should be 4.8.0.76 Current version: 4.8.0\n"
     ]
    }
   ],
   "source": [
    "import cv2\n",
    "print(\"OpenCV should be 4.8.0.76 Current version:\", cv2.__version__)\n",
    "from typing import List\n",
    "import numpy as np\n",
    "import imageio.v2 as imageio\n",
    "import cv2\n",
    "import copy\n",
    "import glob\n",
    "import os"
   ]
  },
  {
   "cell_type": "markdown",
   "metadata": {},
   "source": [
    "## **Apartado A: Calibración de cámara** (derecha e izquierda)"
   ]
  },
  {
   "cell_type": "markdown",
   "metadata": {},
   "source": [
    "En este apartado se realiza la calibración de dos cámaras de un sistema estereoscópico. Para ello se trabajará con las imágenes de las carpetas ``left`` y ``right``. En primer lugar se trabajará con la carpeta ``left``. Posteriormente, deberá repetir el proceso con las imágenes en la carpeta ``right``. Ambas carpetas contienen imágenes con las que se calibrarán las cámaras. En ellas aparece el patrón de calibración en diferentes posiciones y orientaciones. Estas imágenes serán los datos de entrada.\n",
    "\n",
    "Los pasos que deberá seguir para calibrar una cámara son:\n",
    "\n",
    "1. Defina y ejecute el método para cargar imágenes ``load_images()``.\n",
    "2. Detecte las esquinas de los patrones usando ``cv2.findChessboardCorners()``. Refine las detecciones con ``cv2.cornerSubPix()``.\n",
    "3. Compruebe que las detecciones son correctas dibujando los resultados con ``cv2.drawChessboardCorners()``.\n",
    "4. Defina y ejecute el método ``get_chessboard_points(chessboard_shape, dx, dy)`` que proporcione las coordenadas 3D de las esquinas del patrón. El sistema de referencia utilizado deberá estar anclado al propio patrón.\n",
    "5. Utilice ``cv2.calibrateCamera`` para obtener los parámetros de calibración para la cámara izquierda."
   ]
  },
  {
   "cell_type": "markdown",
   "metadata": {},
   "source": [
    "### **Tarea A.1:** Defina y ejecute el método para cargar imágenes ``load_images()``."
   ]
  },
  {
   "cell_type": "code",
   "execution_count": 50,
   "metadata": {},
   "outputs": [],
   "source": [
    "def load_images(filenames: List[str]) -> List[np.ndarray]:\n",
    "    return [imageio.imread(filename) for filename in filenames]\n",
    "\n",
    "# TODO Build a list containing the paths of all images from the left camera\n",
    "imgs_path = []\n",
    "\n",
    "for i in range(19):\n",
    "    if i < 10:\n",
    "        nombre = f\"left_00{i}.jpg\"\n",
    "    else:\n",
    "        nombre = f\"left_0{i}.jpg\"\n",
    "\n",
    "    path = f\"..\\data\\left\\{nombre}\"\n",
    "    imgs_path.append(path)\n",
    "\n",
    "imgs = load_images(imgs_path)"
   ]
  },
  {
   "cell_type": "markdown",
   "metadata": {},
   "source": [
    "### **Tarea A.2:** Detecte las esquinas de los patrones usando ``cv2.findChessboardCorners()``. Refine las detecciones con ``cv2.cornerSubPix()``."
   ]
  },
  {
   "cell_type": "code",
   "execution_count": 51,
   "metadata": {},
   "outputs": [],
   "source": [
    "# TODO Find corners with cv2.findChessboardCorners()\n",
    "\n",
    "# Hemos comprobado que el patrón está formado por 8 filas y 6 columnas de esquinas\n",
    "size = (6, 8)\n",
    "\n",
    "# Buscamos el patrón de calibración en cada imagen original\n",
    "corners = [cv2.findChessboardCorners(img, size) for img in imgs]\n",
    "\n",
    "corners_copy = copy.deepcopy(corners)\n",
    "criteria = (cv2.TERM_CRITERIA_EPS + cv2.TERM_CRITERIA_MAX_ITER, 30, 0.01)\n",
    "\n",
    "# TODO To refine corner detections with cv2.cornerSubPix() you need to input grayscale images. Build a list containing grayscale images.\n",
    "\n",
    "# Pasamos las imágenes a escala de grises para poder usar la función cv2.cornerSubPix()\n",
    "imgs_gray = [cv2.cvtColor(img, cv2.COLOR_RGB2GRAY) for img in imgs]\n",
    "corners_refined = [cv2.cornerSubPix(i, cor[1], (8, 6), (-1, -1), criteria) if cor[0] else None for i, cor in zip(imgs_gray, corners_copy)]"
   ]
  },
  {
   "cell_type": "markdown",
   "metadata": {},
   "source": [
    "### **Tarea A.3:** Compruebe que las detecciones son correctas dibujando los resultados con ``cv2.drawChessboardCorners()``"
   ]
  },
  {
   "cell_type": "code",
   "execution_count": 58,
   "metadata": {},
   "outputs": [],
   "source": [
    "# Hacemos una copia para no perder las imágenes originales con la función cv2.drawChessboardCorners()\n",
    "imgs_copy = copy.deepcopy(imgs)\n",
    "\n",
    "# TODO Use cv2.drawChessboardCorners() to draw the cornes\n",
    "drawed_corners = [cv2.drawChessboardCorners(img, size, corner, True) for img, corner in zip(imgs_copy, corners_refined) if corner is not None]\n",
    "\n",
    "# TODO Show images and save when needed\n",
    "def show_image(img, img_name = \"imagen\"):\n",
    "    cv2.imshow(img_name, img)\n",
    "    cv2.waitKey(0)\n",
    "    cv2.destroyAllWindows()\n",
    "    \n",
    "def write_image(img, output_folder, i):\n",
    "    os.makedirs(output_folder, exist_ok=True) \n",
    "    img_name = f\"{output_folder}/corners_{i}.jpg\"\n",
    "    cv2.imwrite(img_name, img)\n",
    "\n",
    "output_folder = \"../data/output_corners\"\n",
    "os.makedirs(output_folder, exist_ok=True)\n",
    "for i, img in enumerate(drawed_corners):\n",
    "    show_image(img)\n",
    "    write_image(img, output_folder, i)"
   ]
  },
  {
   "cell_type": "markdown",
   "metadata": {},
   "source": [
    "### **Tarea A.4:** Defina y ejecute el método ``get_chessboard_points(chessboard_shape, dx, dy)``"
   ]
  },
  {
   "cell_type": "code",
   "execution_count": 53,
   "metadata": {},
   "outputs": [],
   "source": [
    "# TODO Design the method. It should return a np.array with np.float32 elements\n",
    "def get_chessboard_points(chessboard_shape, dx, dy):\n",
    "    pass #remove pass when you implement the function"
   ]
  },
  {
   "cell_type": "code",
   "execution_count": 54,
   "metadata": {},
   "outputs": [],
   "source": [
    "# TODO You need the points for every image, not just one (consider a list comprehension)\n",
    "chessboard_points = get_chessboard_points((8, 6), 30, 30)"
   ]
  },
  {
   "cell_type": "markdown",
   "metadata": {},
   "source": [
    "### **Tarea A.5:** Utilice ``cv2.calibrateCamera()`` para obtener los parámetros de calibración para la cámara izquierda"
   ]
  },
  {
   "cell_type": "code",
   "execution_count": 55,
   "metadata": {},
   "outputs": [],
   "source": [
    "# Filter data and get only those with adequate detections\n",
    "valid_corners = [cor[1] for cor in corners if cor[0]]\n",
    "# Convert list to numpy array\n",
    "valid_corners = np.asarray(valid_corners, dtype=np.float32)"
   ]
  },
  {
   "cell_type": "code",
   "execution_count": 56,
   "metadata": {},
   "outputs": [
    {
     "ename": "error",
     "evalue": "OpenCV(4.8.0) :-1: error: (-5:Bad argument) in function 'calibrateCamera'\n> Overload resolution failed:\n>  - calibrateCamera() missing required argument 'objectPoints' (pos 1)\n>  - calibrateCamera() missing required argument 'objectPoints' (pos 1)\n",
     "output_type": "error",
     "traceback": [
      "\u001b[1;31m---------------------------------------------------------------------------\u001b[0m",
      "\u001b[1;31merror\u001b[0m                                     Traceback (most recent call last)",
      "Cell \u001b[1;32mIn[56], line 2\u001b[0m\n\u001b[0;32m      1\u001b[0m \u001b[38;5;66;03m# TODO\u001b[39;00m\n\u001b[1;32m----> 2\u001b[0m rms, intrinsics, dist_coeffs, rvecs, tvecs \u001b[38;5;241m=\u001b[39m \u001b[43mcv2\u001b[49m\u001b[38;5;241;43m.\u001b[39;49m\u001b[43mcalibrateCamera\u001b[49m\u001b[43m(\u001b[49m\u001b[43m)\u001b[49m\n\u001b[0;32m      4\u001b[0m \u001b[38;5;66;03m# Obtain extrinsics\u001b[39;00m\n\u001b[0;32m      5\u001b[0m extrinsics \u001b[38;5;241m=\u001b[39m \u001b[38;5;28mlist\u001b[39m(\u001b[38;5;28mmap\u001b[39m(\u001b[38;5;28;01mlambda\u001b[39;00m rvec, tvec: np\u001b[38;5;241m.\u001b[39mhstack((cv2\u001b[38;5;241m.\u001b[39mRodrigues(rvec)[\u001b[38;5;241m0\u001b[39m], tvec)), rvecs, tvecs))\n",
      "\u001b[1;31merror\u001b[0m: OpenCV(4.8.0) :-1: error: (-5:Bad argument) in function 'calibrateCamera'\n> Overload resolution failed:\n>  - calibrateCamera() missing required argument 'objectPoints' (pos 1)\n>  - calibrateCamera() missing required argument 'objectPoints' (pos 1)\n"
     ]
    }
   ],
   "source": [
    "# TODO\n",
    "rms, intrinsics, dist_coeffs, rvecs, tvecs = cv2.calibrateCamera()\n",
    "\n",
    "# Obtain extrinsics\n",
    "extrinsics = list(map(lambda rvec, tvec: np.hstack((cv2.Rodrigues(rvec)[0], tvec)), rvecs, tvecs))"
   ]
  },
  {
   "cell_type": "code",
   "execution_count": null,
   "metadata": {},
   "outputs": [],
   "source": [
    "# Print outputs\n",
    "print(\"Intrinsics:\\n\", intrinsics)\n",
    "print(\"Distortion coefficients:\\n\", dist_coeffs)\n",
    "print(\"Root mean squared reprojection error:\\n\", rms)"
   ]
  },
  {
   "cell_type": "markdown",
   "metadata": {},
   "source": [
    "### **Pregunta A.1:** Repita el proceso (carga de imágenes, detección y comprobación de esquinas, etc.) para la cámara derecha."
   ]
  },
  {
   "cell_type": "code",
   "execution_count": null,
   "metadata": {},
   "outputs": [],
   "source": [
    "# TODO Homework"
   ]
  },
  {
   "cell_type": "markdown",
   "metadata": {},
   "source": [
    "### **Pregunta A.2:** Diferencias entre cv2.findChessboardCorners() y cv2.cornerSubPix()"
   ]
  },
  {
   "cell_type": "code",
   "execution_count": null,
   "metadata": {},
   "outputs": [],
   "source": [
    "# TODO Homework"
   ]
  },
  {
   "cell_type": "markdown",
   "metadata": {},
   "source": [
    "### **Pregunta A.3:** Número mínimo de imágenes necesarias para calibrar."
   ]
  },
  {
   "cell_type": "code",
   "execution_count": null,
   "metadata": {},
   "outputs": [],
   "source": [
    "# TODO Homework"
   ]
  },
  {
   "cell_type": "markdown",
   "metadata": {},
   "source": [
    "## **Apartado B: Corrección de distorsión** (ojo de pez)"
   ]
  },
  {
   "cell_type": "markdown",
   "metadata": {},
   "source": [
    "En este apartado se trabajará en la corrección de la distorsión debido a lentes de ojo de pez. Primero se calibrará una cámara con este tipo de lente, utilizando las imágenes de la carpeta ``fisheye``. Posteriormente se utilizarán estos parámetros de calibración para corregir la distorsión de una de las imágenes de calibración.\n",
    "\n",
    "Los pasos que deberá seguir para calibrar una cámara con distorsión de ojo de pez son:\n",
    "\n",
    "1. Reutilice el método ``load_images()`` para cargar las imágenes de la carpeta ``fisheye``.\n",
    "2. Detecte las equinas procesando las imágenes con los métodos ``cv2.findChessboardCorners()`` y ``cv2.cornerSubPix()``.\n",
    "3. Reutilice la función ``get_chessboard_points()`` para obtener las coordenadas del tablero.\n",
    "4. Defina los argumentos para la función de calibración.\n",
    "5. Calibre con ``cv2.fisheye.calibrate()``"
   ]
  },
  {
   "cell_type": "markdown",
   "metadata": {},
   "source": [
    "### **Tarea B.1:** Reutilice el método ``load_images()`` para cargar las imágenes de la carpeta ``fisheye``"
   ]
  },
  {
   "cell_type": "code",
   "execution_count": null,
   "metadata": {},
   "outputs": [],
   "source": [
    "# TODO Build a list containing the paths of all images from the fisheye camera and load images\n",
    "fisheye_imgs_path = []\n",
    "fisheye_imgs = load_images()"
   ]
  },
  {
   "cell_type": "markdown",
   "metadata": {},
   "source": [
    "### **Tarea B.2:** Detecte las equinas procesando las imágenes con los métodos ``cv2.findChessboardCorners()`` y ``cv2.cornerSubPix()``."
   ]
  },
  {
   "cell_type": "code",
   "execution_count": null,
   "metadata": {},
   "outputs": [],
   "source": [
    "imgs_corners = []\n",
    "# Parameters for cv2.cornerSubPix()\n",
    "subpix_criteria = (cv2.TERM_CRITERIA_EPS+cv2.TERM_CRITERIA_MAX_ITER, 30, 0.1)\n",
    "\n",
    "#TODO Complete the required parts of the loop\n",
    "for img in fisheye_imgs:\n",
    "    \n",
    "    # TODO parse arguments to cv2.findChessboardCorners()\n",
    "    corners = cv2.findChessboardCorners()\n",
    "    \n",
    "    # TODO convert image to grayscale to use cv2.cornerSubPix()\n",
    "    gray_img = cv2.cvtColor()\n",
    "    refined_corners = cv2.cornerSubPix(gray_img, corners, (3,3), (-1,-1), subpix_criteria)\n",
    "\n",
    "    # TODO append only those refined_corners with proper detections\n",
    "    imgs_corners.append(refined_corners)"
   ]
  },
  {
   "cell_type": "markdown",
   "metadata": {},
   "source": [
    "### **Tarea B.3:** Reutilice la función ``get_chessboard_points()`` para obtener las coordenadas del tablero"
   ]
  },
  {
   "cell_type": "code",
   "execution_count": null,
   "metadata": {},
   "outputs": [],
   "source": [
    "# TODO Define the chessboard dimensions and the lenght of the squares (in [mm])\n",
    "chessboard_dims = (None, None)\n",
    "length = None\n",
    "# TODO You need the points for every image, not just one (consider a list comprehension)\n",
    "fisheye_chessboard_points = get_chessboard_points(chessboard_dims, length, length)"
   ]
  },
  {
   "cell_type": "markdown",
   "metadata": {},
   "source": [
    "### **Tarea B.4:** Defina los argumentos para la calibración"
   ]
  },
  {
   "cell_type": "code",
   "execution_count": null,
   "metadata": {},
   "outputs": [],
   "source": [
    "# Parameters for cv2.fisheye.calibrate()\n",
    "calibration_flags = cv2.fisheye.CALIB_RECOMPUTE_EXTRINSIC+cv2.fisheye.CALIB_FIX_SKEW\n",
    "intrinsics = np.zeros((3, 3))\n",
    "distortion = np.zeros((4, 1))\n",
    "rotations = [np.zeros((1, 1, 3), dtype=np.float64) for _ in imgs_corners]\n",
    "traslations = [np.zeros((1, 1, 3), dtype=np.float64) for _ in imgs_corners]\n"
   ]
  },
  {
   "cell_type": "markdown",
   "metadata": {},
   "source": [
    "### **Tarea B.5:** Calibración"
   ]
  },
  {
   "cell_type": "code",
   "execution_count": null,
   "metadata": {},
   "outputs": [],
   "source": [
    "rms, _, _, _, _ = \\\n",
    "cv2.fisheye.calibrate(fisheye_chessboard_points, imgs_corners, gray_img.shape[::-1], intrinsics, distortion, rotations, traslations, calibration_flags, subpix_criteria)"
   ]
  },
  {
   "cell_type": "code",
   "execution_count": null,
   "metadata": {},
   "outputs": [],
   "source": [
    "# Show intrinsic matrix and distortion coefficients values\n",
    "print(intrinsics)\n",
    "print(distortion)"
   ]
  },
  {
   "cell_type": "markdown",
   "metadata": {},
   "source": [
    "### **Pregunta B.1:** Corrija la distorsión de las 2 primeras imágenes de la carpeta ``fisheye``"
   ]
  },
  {
   "cell_type": "code",
   "execution_count": null,
   "metadata": {},
   "outputs": [],
   "source": [
    "# TODO Search in the documentation to define 'dim'\n",
    "dim = None\n",
    "map1, map2 = cv2.fisheye.initUndistortRectifyMap(intrinsics, distortion, np.eye(3), intrinsics, dim, cv2.CV_16SC2)"
   ]
  },
  {
   "cell_type": "code",
   "execution_count": null,
   "metadata": {},
   "outputs": [],
   "source": [
    "# TODO Homework: correct distortion using cv2.remap()"
   ]
  }
 ],
 "metadata": {
  "kernelspec": {
   "display_name": "voi-lab",
   "language": "python",
   "name": "python3"
  },
  "language_info": {
   "codemirror_mode": {
    "name": "ipython",
    "version": 3
   },
   "file_extension": ".py",
   "mimetype": "text/x-python",
   "name": "python",
   "nbconvert_exporter": "python",
   "pygments_lexer": "ipython3",
   "version": "3.9.21"
  }
 },
 "nbformat": 4,
 "nbformat_minor": 2
}
